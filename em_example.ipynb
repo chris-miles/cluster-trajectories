{
 "cells": [
  {
   "cell_type": "code",
   "execution_count": 2,
   "id": "equivalent-bolivia",
   "metadata": {},
   "outputs": [],
   "source": [
    "from em_code import *"
   ]
  },
  {
   "cell_type": "code",
   "execution_count": 3,
   "id": "intellectual-reach",
   "metadata": {},
   "outputs": [],
   "source": [
    "nClusters=2\n",
    "nStates=3\n",
    "tt,qq=generateChains(nStates,nClusters) # a random mixture of 2, 3-state chains "
   ]
  },
  {
   "cell_type": "code",
   "execution_count": 4,
   "id": "mature-times",
   "metadata": {},
   "outputs": [
    {
     "data": {
      "text/plain": [
       "array([[[0.30275476, 0.21826526, 0.47897998],\n",
       "        [0.05799533, 0.47714776, 0.4648569 ],\n",
       "        [0.35077182, 0.12214843, 0.52707975]],\n",
       "\n",
       "       [[0.34635552, 0.58310418, 0.07054031],\n",
       "        [0.39020046, 0.25813105, 0.35166849],\n",
       "        [0.24736284, 0.45217322, 0.30046394]]])"
      ]
     },
     "execution_count": 4,
     "metadata": {},
     "output_type": "execute_result"
    }
   ],
   "source": [
    "tt"
   ]
  },
  {
   "cell_type": "code",
   "execution_count": 5,
   "id": "southeast-wallace",
   "metadata": {},
   "outputs": [
    {
     "data": {
      "text/plain": [
       "array([[0.57391526, 0.2134086 , 0.21267614],\n",
       "       [0.09284998, 0.26780255, 0.63934747]])"
      ]
     },
     "execution_count": 5,
     "metadata": {},
     "output_type": "execute_result"
    }
   ],
   "source": [
    "qq # with some initial distributions"
   ]
  },
  {
   "cell_type": "code",
   "execution_count": 6,
   "id": "parliamentary-electron",
   "metadata": {},
   "outputs": [],
   "source": [
    "# generate 10 trajectories of length 100 with mixture probabilities [0.5,0.5] from chains above"
   ]
  },
  {
   "cell_type": "code",
   "execution_count": 7,
   "id": "deluxe-meaning",
   "metadata": {},
   "outputs": [],
   "source": [
    "X,trueLabels = generateTrajectories(10, 100,[0.5,0.5], qq, tt, 2)"
   ]
  },
  {
   "cell_type": "code",
   "execution_count": 8,
   "id": "moderate-miniature",
   "metadata": {},
   "outputs": [
    {
     "data": {
      "text/plain": [
       "array([0, 1, 1, 1, 0, 1, 1, 0, 1, 0])"
      ]
     },
     "execution_count": 8,
     "metadata": {},
     "output_type": "execute_result"
    }
   ],
   "source": [
    "trueLabels"
   ]
  },
  {
   "cell_type": "code",
   "execution_count": 9,
   "id": "understood-sense",
   "metadata": {},
   "outputs": [],
   "source": [
    "zHat, muHat, qHat, pHat = doEM(X, nClusters, nStates, 100) # can our EM recover this? 🤞 let's do 100 steps"
   ]
  },
  {
   "cell_type": "code",
   "execution_count": 10,
   "id": "manual-female",
   "metadata": {},
   "outputs": [
    {
     "data": {
      "text/plain": [
       "array([[1.00000000e+00, 4.87459686e-15],\n",
       "       [5.01123577e-16, 1.00000000e+00],\n",
       "       [2.45348441e-16, 1.00000000e+00],\n",
       "       [1.03835154e-18, 1.00000000e+00],\n",
       "       [1.00000000e+00, 4.46413138e-21],\n",
       "       [4.39669474e-16, 1.00000000e+00],\n",
       "       [0.00000000e+00, 1.00000000e+00],\n",
       "       [1.00000000e+00, 2.29886895e-20],\n",
       "       [0.00000000e+00, 1.00000000e+00],\n",
       "       [1.00000000e+00, 2.03902777e-20]])"
      ]
     },
     "execution_count": 10,
     "metadata": {},
     "output_type": "execute_result"
    }
   ],
   "source": [
    "zHat"
   ]
  },
  {
   "cell_type": "code",
   "execution_count": 11,
   "id": "honey-capability",
   "metadata": {},
   "outputs": [],
   "source": [
    "# it looks like they are flipped but this is OK and surprisingly accurate. what about model params?"
   ]
  },
  {
   "cell_type": "code",
   "execution_count": 12,
   "id": "gross-liquid",
   "metadata": {},
   "outputs": [
    {
     "data": {
      "text/plain": [
       "array([[[0.32258065, 0.18548387, 0.49193548],\n",
       "        [0.13432836, 0.41791045, 0.44776119],\n",
       "        [0.36585366, 0.08780488, 0.54634146]],\n",
       "\n",
       "       [[0.29189189, 0.64324324, 0.06486486],\n",
       "        [0.36821705, 0.28682171, 0.34496124],\n",
       "        [0.2384106 , 0.43708609, 0.32450331]]])"
      ]
     },
     "execution_count": 12,
     "metadata": {},
     "output_type": "execute_result"
    }
   ],
   "source": [
    "pHat"
   ]
  },
  {
   "cell_type": "code",
   "execution_count": 13,
   "id": "sitting-courtesy",
   "metadata": {},
   "outputs": [],
   "source": [
    "# compare that with the true transitions, damn close! we did it! what about mixture probs?"
   ]
  },
  {
   "cell_type": "code",
   "execution_count": 14,
   "id": "selected-success",
   "metadata": {},
   "outputs": [
    {
     "data": {
      "text/plain": [
       "array([0.4, 0.6])"
      ]
     },
     "execution_count": 14,
     "metadata": {},
     "output_type": "execute_result"
    }
   ],
   "source": [
    "muHat"
   ]
  },
  {
   "cell_type": "code",
   "execution_count": null,
   "id": "raised-picture",
   "metadata": {},
   "outputs": [],
   "source": [
    "# NOT BAD "
   ]
  },
  {
   "cell_type": "code",
   "execution_count": null,
   "id": "awful-pound",
   "metadata": {},
   "outputs": [],
   "source": []
  },
  {
   "cell_type": "code",
   "execution_count": null,
   "id": "finnish-arena",
   "metadata": {},
   "outputs": [],
   "source": []
  }
 ],
 "metadata": {
  "kernelspec": {
   "display_name": "Python 3",
   "language": "python",
   "name": "python3"
  },
  "language_info": {
   "codemirror_mode": {
    "name": "ipython",
    "version": 3
   },
   "file_extension": ".py",
   "mimetype": "text/x-python",
   "name": "python",
   "nbconvert_exporter": "python",
   "pygments_lexer": "ipython3",
   "version": "3.9.2"
  }
 },
 "nbformat": 4,
 "nbformat_minor": 5
}
