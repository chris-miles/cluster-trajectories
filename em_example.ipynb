{
 "cells": [
  {
   "cell_type": "code",
   "execution_count": 24,
   "id": "equivalent-bolivia",
   "metadata": {},
   "outputs": [],
   "source": [
    "from em_code import *"
   ]
  },
  {
   "cell_type": "code",
   "execution_count": 25,
   "id": "intellectual-reach",
   "metadata": {},
   "outputs": [],
   "source": [
    "nClusters=2\n",
    "nStates=3\n",
    "tt,qq=generateChains(nStates,nClusters) # a random mixture of 2, 3-state chains "
   ]
  },
  {
   "cell_type": "code",
   "execution_count": 26,
   "id": "mature-times",
   "metadata": {},
   "outputs": [
    {
     "data": {
      "text/plain": [
       "array([[[0.12794298, 0.1587312 , 0.71332582],\n",
       "        [0.23018182, 0.35074418, 0.419074  ],\n",
       "        [0.20066254, 0.36458482, 0.43475264]],\n",
       "\n",
       "       [[0.52333603, 0.35472449, 0.12193948],\n",
       "        [0.34797137, 0.3813792 , 0.27064943],\n",
       "        [0.45657321, 0.37182681, 0.17159998]]])"
      ]
     },
     "execution_count": 26,
     "metadata": {},
     "output_type": "execute_result"
    }
   ],
   "source": [
    "tt"
   ]
  },
  {
   "cell_type": "code",
   "execution_count": 27,
   "id": "southeast-wallace",
   "metadata": {},
   "outputs": [
    {
     "data": {
      "text/plain": [
       "array([[0.45436361, 0.41112343, 0.13451296],\n",
       "       [0.33586307, 0.29055399, 0.37358294]])"
      ]
     },
     "execution_count": 27,
     "metadata": {},
     "output_type": "execute_result"
    }
   ],
   "source": [
    "qq # with some initial distributions"
   ]
  },
  {
   "cell_type": "code",
   "execution_count": 28,
   "id": "parliamentary-electron",
   "metadata": {},
   "outputs": [],
   "source": [
    "# generate 10 trajectories of length 100 with mixture probabilities [0.5,0.5] from chains above"
   ]
  },
  {
   "cell_type": "code",
   "execution_count": 29,
   "id": "deluxe-meaning",
   "metadata": {},
   "outputs": [],
   "source": [
    "X,trueLabels = generateTrajectories(10, 100,[0.5,0.5], qq, tt, 2)"
   ]
  },
  {
   "cell_type": "code",
   "execution_count": 30,
   "id": "moderate-miniature",
   "metadata": {},
   "outputs": [
    {
     "data": {
      "text/plain": [
       "array([0, 0, 0, 0, 0, 1, 1, 1, 0, 1])"
      ]
     },
     "execution_count": 30,
     "metadata": {},
     "output_type": "execute_result"
    }
   ],
   "source": [
    "trueLabels"
   ]
  },
  {
   "cell_type": "code",
   "execution_count": 31,
   "id": "understood-sense",
   "metadata": {},
   "outputs": [],
   "source": [
    "zHat, muHat, qHat, pHat = doEM(X, nClusters, nStates, 100) # can our EM recover this? 🤞 let's do 100 steps"
   ]
  },
  {
   "cell_type": "code",
   "execution_count": 32,
   "id": "manual-female",
   "metadata": {},
   "outputs": [
    {
     "data": {
      "text/plain": [
       "array([[9.99999999e-01, 6.81390329e-10],\n",
       "       [1.00000000e+00, 1.96686925e-11],\n",
       "       [1.00000000e+00, 1.43741683e-13],\n",
       "       [1.00000000e+00, 3.00781179e-12],\n",
       "       [9.99999790e-01, 2.09685151e-07],\n",
       "       [1.48969573e-11, 1.00000000e+00],\n",
       "       [1.59367991e-16, 1.00000000e+00],\n",
       "       [3.65909142e-14, 1.00000000e+00],\n",
       "       [9.99999999e-01, 8.10072185e-10],\n",
       "       [0.00000000e+00, 1.00000000e+00]])"
      ]
     },
     "execution_count": 32,
     "metadata": {},
     "output_type": "execute_result"
    }
   ],
   "source": [
    "zHat"
   ]
  },
  {
   "cell_type": "code",
   "execution_count": 33,
   "id": "honey-capability",
   "metadata": {},
   "outputs": [],
   "source": [
    "# it looks like they are flipped but this is OK and surprisingly accurate. what about model params?"
   ]
  },
  {
   "cell_type": "code",
   "execution_count": 34,
   "id": "gross-liquid",
   "metadata": {},
   "outputs": [
    {
     "data": {
      "text/plain": [
       "array([[[0.14285714, 0.18045113, 0.67669173],\n",
       "        [0.25      , 0.34999999, 0.4       ],\n",
       "        [0.25622776, 0.32740213, 0.41637011]],\n",
       "\n",
       "       [[0.5229885 , 0.33333333, 0.14367817],\n",
       "        [0.36956521, 0.36231885, 0.26811594],\n",
       "        [0.40476189, 0.35714286, 0.23809525]]])"
      ]
     },
     "execution_count": 34,
     "metadata": {},
     "output_type": "execute_result"
    }
   ],
   "source": [
    "pHat"
   ]
  },
  {
   "cell_type": "code",
   "execution_count": null,
   "id": "sitting-courtesy",
   "metadata": {},
   "outputs": [],
   "source": [
    "# compare that with the true transitions, damn close! we did it!"
   ]
  },
  {
   "cell_type": "code",
   "execution_count": null,
   "id": "selected-success",
   "metadata": {},
   "outputs": [],
   "source": []
  }
 ],
 "metadata": {
  "kernelspec": {
   "display_name": "Python 3",
   "language": "python",
   "name": "python3"
  },
  "language_info": {
   "codemirror_mode": {
    "name": "ipython",
    "version": 3
   },
   "file_extension": ".py",
   "mimetype": "text/x-python",
   "name": "python",
   "nbconvert_exporter": "python",
   "pygments_lexer": "ipython3",
   "version": "3.9.2"
  }
 },
 "nbformat": 4,
 "nbformat_minor": 5
}
